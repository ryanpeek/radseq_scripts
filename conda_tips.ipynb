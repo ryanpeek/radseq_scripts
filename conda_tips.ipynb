{
  "cells": [
    {
      "cell_type": "markdown",
      "metadata": {},
      "source": [
        "# General `conda` notes\n",
        "\n",
        "## Git Authentication\n",
        "\n",
        "To re-up your https token, try the following:\n",
        "\n",
        " - In the env you want gh auth to be available (probably base):\n",
        " - `conda install gh --channel conda-forge`\n",
        "\n",
        "Then `gh auth login`, and proceed. Easiest to paste in a token via https (enter Y).\n",
        "\n",
        "## Delete env\n",
        "\n",
        "`conda remove --name ENV_NAME --all`\n",
        "\n",
        "## Install/create env\n",
        "\n",
        "### From scratch and install package\n",
        "\n",
        "`conda create --name py310 python=3.10`\n",
        "\n",
        "### From env yml file:\n",
        "\n",
        " - export: `conda env export > environment.yml`\n",
        " - create (named in yml): `conda env create -f environment.yml`\n",
        " - create (not named): `conda env create -n <NAME> -f environment.yml`\n",
        " - create/update: `conda env update -n <NAME> -f environment.yml`\n",
        "\n",
        "\n",
        "## Interactive RStudio:\n",
        "\n",
        "See here: https://github.com/dib-lab/farm-notes/blob/fec47911937b35d35961f8d3a6d67ffa1069187b/getting-started.md#installing-conda\n",
        "\n",
        " - To create an Rstudio env:\n",
        "\n",
        "\n",
        "```{bash}\n",
        "#| eval: false\n",
        "\n",
        "conda create -n rstudio rstudio\n",
        "ssh -X username@farm.cse.ucdavis.edu\n",
        "srun -t 240 --mem=10g -p high2 --pty bash\n",
        "conda activate rstudio\n",
        "rstudio\n",
        "\n",
        "```"
      ],
      "id": "bb99b0dc"
    }
  ],
  "metadata": {
    "kernelspec": {
      "display_name": "Python 3",
      "language": "python",
      "name": "python3"
    }
  },
  "nbformat": 4,
  "nbformat_minor": 5
}